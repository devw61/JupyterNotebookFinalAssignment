{
 "cells": [
  {
   "cell_type": "markdown",
   "id": "89e6528d-dcd0-4037-989b-e35f53e499f4",
   "metadata": {},
   "source": [
    "# Data Science Tools and Ecosystem"
   ]
  },
  {
   "cell_type": "markdown",
   "id": "deb8a0cc-09de-4d36-a05a-85799d6f606b",
   "metadata": {},
   "source": [
    "In this notebook, Data Science Tools and Ecosystem are summarized."
   ]
  },
  {
   "cell_type": "markdown",
   "id": "654b03c5-3db5-47e7-a36e-509da8e88930",
   "metadata": {},
   "source": [
    "**Objectives:**\n",
    "+ List popular languages for data science\n",
    "+ Explore Open Source tools\n",
    "+ Experience how to use open source tools "
   ]
  },
  {
   "cell_type": "markdown",
   "id": "ad20e554-3d12-4b70-917e-ca1304ac3877",
   "metadata": {},
   "source": [
    "Some of the popular languages that Data Scientists use are:\n",
    "1. Python\n",
    "2. JavaScript\n",
    "3. R\n",
    "4. C++"
   ]
  },
  {
   "cell_type": "markdown",
   "id": "9d5e5e46-aaa8-4b8d-a0d1-f21240eb6b75",
   "metadata": {},
   "source": [
    "Some of the commonly used libraries used by Data Scientists include:\n",
    "1. Scikit-learn\n",
    "2. pandas\n",
    "3. numpy\n",
    "4. matplotlib"
   ]
  },
  {
   "cell_type": "markdown",
   "id": "e5107ec9-8487-4e2e-a512-c389dcba0510",
   "metadata": {},
   "source": [
    "| Data Science Tools |\n",
    "|--------------------|\n",
    "| Virtual Studio Code (VS Code)  |\n",
    "| JupypterLab  |\n",
    "| Anaconda  |"
   ]
  },
  {
   "cell_type": "markdown",
   "id": "0d1b30cf-0347-4cc3-8170-1595969dbe30",
   "metadata": {},
   "source": [
    "### Below are a few examples of evaluating arithmetic expressions in Python"
   ]
  },
  {
   "cell_type": "code",
   "execution_count": 1,
   "id": "f7b59779-c60b-4089-8ad2-f01289ce4632",
   "metadata": {
    "tags": []
   },
   "outputs": [
    {
     "data": {
      "text/plain": [
       "17"
      ]
     },
     "execution_count": 1,
     "metadata": {},
     "output_type": "execute_result"
    }
   ],
   "source": [
    "# This is a simple arithmetic expression to multiply then add integers.\n",
    "(3*4)+5"
   ]
  },
  {
   "cell_type": "code",
   "execution_count": 2,
   "id": "a578781b-59b8-4b7f-8ddf-d58380c1cfe8",
   "metadata": {
    "tags": []
   },
   "outputs": [
    {
     "data": {
      "text/plain": [
       "3.3333333333333335"
      ]
     },
     "execution_count": 2,
     "metadata": {},
     "output_type": "execute_result"
    }
   ],
   "source": [
    "# This will convert 200 minutes into hours by dividing by 60\n",
    "200/60"
   ]
  },
  {
   "cell_type": "markdown",
   "id": "b7c895e0-afaa-41fd-a5e6-154bc096435a",
   "metadata": {},
   "source": [
    "## Author: \n",
    "Devin Wingfield"
   ]
  }
 ],
 "metadata": {
  "kernelspec": {
   "display_name": "Python",
   "language": "python",
   "name": "conda-env-python-py"
  },
  "language_info": {
   "codemirror_mode": {
    "name": "ipython",
    "version": 3
   },
   "file_extension": ".py",
   "mimetype": "text/x-python",
   "name": "python",
   "nbconvert_exporter": "python",
   "pygments_lexer": "ipython3",
   "version": "3.7.12"
  }
 },
 "nbformat": 4,
 "nbformat_minor": 5
}
